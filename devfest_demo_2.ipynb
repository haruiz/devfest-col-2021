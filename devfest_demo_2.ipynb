{
  "nbformat": 4,
  "nbformat_minor": 0,
  "metadata": {
    "colab": {
      "name": "devfest-demo-2.ipynb",
      "provenance": [],
      "collapsed_sections": []
    },
    "kernelspec": {
      "name": "python3",
      "display_name": "Python 3"
    },
    "language_info": {
      "name": "python"
    }
  },
  "cells": [
    {
      "cell_type": "code",
      "metadata": {
        "id": "v6XyNMrKdS8t"
      },
      "source": [
        "import IPython\n",
        "from google.colab import output\n",
        "\n",
        "\n",
        "HTMl = IPython.display.HTML('''\n",
        "<!DOCTYPE html>\n",
        "<html lang=\"en\">\n",
        "\n",
        "<head>\n",
        "    <meta charset=\"UTF-8\">\n",
        "    <title>Image Classification</title>\n",
        "    <script src=\"https://cdn.jsdelivr.net/npm/@tensorflow/tfjs@latest\"></script>\n",
        "    <script src=\"https://cdn.jsdelivr.net/npm/@tensorflow-models/mobilenet@1.0.0\"> </script>\n",
        "    <script type=\"module\">\n",
        "        const main = async () => {\n",
        "            try {\n",
        "                const btnClassify = document.getElementById(\"btnClassify\");\n",
        "                const fileImage = document.getElementById(\"fileImage\");\n",
        "                let canvas = document.getElementById(\"canvas\");\n",
        "                let ctx = canvas.getContext(\"2d\");\n",
        "                const model = await mobilenet.load();\n",
        "\n",
        "                btnClassify.onclick = async () => {\n",
        "                    let imageTensor = tf.browser.fromPixels(canvas);\n",
        "                    let predictions = await model.classify(imageTensor);\n",
        "                    if(predictions){\n",
        "                        let top_prediction = predictions[0]\n",
        "                        const {className, probability} = top_prediction;\n",
        "                        ctx.font = '14px serif';\n",
        "                        ctx.fillText(`${className} : ${probability.toFixed(2)}`, 20, 20);\n",
        "                    }\n",
        "                };\n",
        "                fileImage.onchange = (evt) => {\n",
        "                    var allowedExtReg = /(\\.jpg|\\.jpeg|\\.png)$/i;\n",
        "                    let files = evt.target.files;\n",
        "                    if (files && files.length) {\n",
        "                        let myFile = files[0];\n",
        "                        let myFileName = myFile.name;\n",
        "                        // check file ext\n",
        "                        if (allowedExtReg.exec(myFileName)) {\n",
        "                            let fr = new FileReader()\n",
        "                            fr.readAsDataURL(myFile);\n",
        "                            fr.onload = (evt) => {\n",
        "                                btnClassify.disabled = false;\n",
        "                                displayImage(evt.target.result);\n",
        "                            }\n",
        "                        }\n",
        "                    }\n",
        "                };\n",
        "\n",
        "                const displayImage = (base64Img) => {\n",
        "                    const img = new Image();\n",
        "                    img.src = base64Img;\n",
        "                    img.onload = (evt) => {\n",
        "                        var hRatio = canvas.width / img.width;\n",
        "                        var vRatio = canvas.height / img.height;\n",
        "                        var ratio = Math.min(hRatio, vRatio);\n",
        "                        var centerShift_x = (canvas.width - img.width * ratio) / 2;\n",
        "                        var centerShift_y = (canvas.height - img.height * ratio) / 2;\n",
        "                        ctx.clearRect(0, 0, canvas.width, canvas.height);\n",
        "                        ctx.drawImage(img, 0, 0, img.width, img.height, centerShift_x, centerShift_y, img.width * ratio, img.height * ratio);\n",
        "                    }\n",
        "                };\n",
        "            }\n",
        "            catch (ex) {\n",
        "                console.log(ex);\n",
        "            }\n",
        "\n",
        "        };\n",
        "        window.onload = main;\n",
        "    </script>\n",
        "    <style>\n",
        "        .center {\n",
        "            display: flex;\n",
        "            justify-content: center;\n",
        "            align-items: center;\n",
        "            height: 100%;\n",
        "        }\n",
        "    </style>\n",
        "</head>\n",
        "\n",
        "<body>\n",
        "    <div class=\"center\">\n",
        "        <canvas id=\"canvas\" width=\"300\" height=\"300\"></canvas>\n",
        "    </div>\n",
        "    <div class=\"center\" style=\"margin-top: 10px;\">\n",
        "        <input id=\"fileImage\" type=\"file\" />\n",
        "        <button id=\"btnClassify\" disabled>classify</button>\n",
        "    </div>\n",
        "</body>\n",
        "\n",
        "</html>\n",
        "''')"
      ],
      "execution_count": 2,
      "outputs": []
    },
    {
      "cell_type": "code",
      "metadata": {
        "colab": {
          "base_uri": "https://localhost:8080/",
          "height": 116
        },
        "id": "6AJsWMDCfSki",
        "outputId": "a2432d2a-a2c2-42dd-9d70-cb4a22b5a8c4"
      },
      "source": [
        "HTMl.data"
      ],
      "execution_count": 3,
      "outputs": [
        {
          "output_type": "execute_result",
          "data": {
            "application/vnd.google.colaboratory.intrinsic+json": {
              "type": "string"
            },
            "text/plain": [
              "'\\n<!DOCTYPE html>\\n<html lang=\"en\">\\n\\n<head>\\n    <meta charset=\"UTF-8\">\\n    <title>Image Classification</title>\\n    <script src=\"https://cdn.jsdelivr.net/npm/@tensorflow/tfjs@latest\"></script>\\n    <script src=\"https://cdn.jsdelivr.net/npm/@tensorflow-models/mobilenet@1.0.0\"> </script>\\n    <script type=\"module\">\\n        const main = async () => {\\n            try {\\n                const btnClassify = document.getElementById(\"btnClassify\");\\n                const fileImage = document.getElementById(\"fileImage\");\\n                let canvas = document.getElementById(\"canvas\");\\n                let ctx = canvas.getContext(\"2d\");\\n                const model = await mobilenet.load();\\n\\n                btnClassify.onclick = async () => {\\n                    let imageTensor = tf.browser.fromPixels(canvas);\\n                    let predictions = await model.classify(imageTensor);\\n                    if(predictions){\\n                        let top_prediction = predictions[0]\\n                        const {className, probability} = top_prediction;\\n                        ctx.font = \\'14px serif\\';\\n                        ctx.fillText(`${className} : ${probability.toFixed(2)}`, 20, 20);\\n                    }\\n                };\\n                fileImage.onchange = (evt) => {\\n                    var allowedExtReg = /(\\\\.jpg|\\\\.jpeg|\\\\.png)$/i;\\n                    let files = evt.target.files;\\n                    if (files && files.length) {\\n                        let myFile = files[0];\\n                        let myFileName = myFile.name;\\n                        // check file ext\\n                        if (allowedExtReg.exec(myFileName)) {\\n                            let fr = new FileReader()\\n                            fr.readAsDataURL(myFile);\\n                            fr.onload = (evt) => {\\n                                btnClassify.disabled = false;\\n                                displayImage(evt.target.result);\\n                            }\\n                        }\\n                    }\\n                };\\n\\n                const displayImage = (base64Img) => {\\n                    const img = new Image();\\n                    img.src = base64Img;\\n                    img.onload = (evt) => {\\n                        var hRatio = canvas.width / img.width;\\n                        var vRatio = canvas.height / img.height;\\n                        var ratio = Math.min(hRatio, vRatio);\\n                        var centerShift_x = (canvas.width - img.width * ratio) / 2;\\n                        var centerShift_y = (canvas.height - img.height * ratio) / 2;\\n                        ctx.clearRect(0, 0, canvas.width, canvas.height);\\n                        ctx.drawImage(img, 0, 0, img.width, img.height, centerShift_x, centerShift_y, img.width * ratio, img.height * ratio);\\n                    }\\n                };\\n            }\\n            catch (ex) {\\n                console.log(ex);\\n            }\\n\\n        };\\n        window.onload = main;\\n    </script>\\n    <style>\\n        .center {\\n            display: flex;\\n            justify-content: center;\\n            align-items: center;\\n            height: 100%;\\n        }\\n    </style>\\n</head>\\n\\n<body>\\n    <div class=\"center\">\\n        <canvas id=\"canvas\" width=\"300\" height=\"300\"></canvas>\\n    </div>\\n    <div class=\"center\" style=\"margin-top: 10px;\">\\n        <input id=\"fileImage\" type=\"file\" />\\n        <button id=\"btnClassify\" disabled>classify</button>\\n    </div>\\n</body>\\n\\n</html>\\n'"
            ]
          },
          "metadata": {},
          "execution_count": 3
        }
      ]
    },
    {
      "cell_type": "code",
      "metadata": {
        "colab": {
          "base_uri": "https://localhost:8080/",
          "height": 17
        },
        "id": "BaQLMdnGXW-C",
        "outputId": "7b22f213-33d9-4a32-c308-04f3a3ebd426"
      },
      "source": [
        "import portpicker\n",
        "import threading\n",
        "import socket\n",
        "import IPython\n",
        "import os\n",
        "from six.moves import socketserver\n",
        "from six.moves import SimpleHTTPServer\n",
        "from google.colab import output\n",
        "\n",
        "class V6Server(socketserver.TCPServer):\n",
        "  address_family = socket.AF_INET6\n",
        "\n",
        "class Handler(SimpleHTTPServer.SimpleHTTPRequestHandler):\n",
        "  def do_GET(self):        \n",
        "        if self.path == '/':            \n",
        "            self.send_response(200)\n",
        "            self.send_header('x-colab-notebook-cache-control', 'no-cache')\n",
        "            self.end_headers()\n",
        "            self.wfile.write(bytes(HTMl.data, 'utf-8'))            \n",
        "        else:\n",
        "             self.path = self.path.strip(\"/\")\n",
        "             return SimpleHTTPServer.SimpleHTTPRequestHandler.do_GET(self)\n",
        "\n",
        "port = portpicker.pick_unused_port()\n",
        "\n",
        "def server_entry():\n",
        "    httpd = V6Server(('::', port), Handler)\n",
        "    # Handle a single request then exit the thread.\n",
        "    httpd.serve_forever()\n",
        "\n",
        "thread = threading.Thread(target=server_entry)\n",
        "thread.start()\n",
        "\n",
        "#output.serve_kernel_port_as_iframe(port) # run the server and show the output as a iframe\n",
        "output.serve_kernel_port_as_window(port) # run the server and show the output as a iframe"
      ],
      "execution_count": 1,
      "outputs": [
        {
          "output_type": "display_data",
          "data": {
            "application/javascript": [
              "(async (port, path, text, element) => {\n",
              "    if (!google.colab.kernel.accessAllowed) {\n",
              "      return;\n",
              "    }\n",
              "    element.appendChild(document.createTextNode(''));\n",
              "    const url = await google.colab.kernel.proxyPort(port);\n",
              "    const anchor = document.createElement('a');\n",
              "    anchor.href = new URL(path, url).toString();\n",
              "    anchor.target = '_blank';\n",
              "    anchor.setAttribute('data-href', url + path);\n",
              "    anchor.textContent = text;\n",
              "    element.appendChild(anchor);\n",
              "  })(23372, \"/\", \"https://localhost:23372/\", window.element)"
            ],
            "text/plain": [
              "<IPython.core.display.Javascript object>"
            ]
          },
          "metadata": {}
        }
      ]
    }
  ]
}