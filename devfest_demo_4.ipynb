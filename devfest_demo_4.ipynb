{
  "cells": [
    {
      "cell_type": "code",
      "execution_count": null,
      "metadata": {
        "id": "3DhTThn-nfXn"
      },
      "outputs": [],
      "source": [
        "!pip install tflite\n",
        "!pip install tensorflowjs\n",
        "!pip install tflite-model-maker\n",
        "!pip install tweet-preprocessor"
      ]
    },
    {
      "cell_type": "code",
      "execution_count": null,
      "metadata": {
        "id": "YhV-kmbRnrcm"
      },
      "outputs": [],
      "source": [
        "import tensorflow as tf\n",
        "import tflite\n",
        "import tensorflowjs\n",
        "import tflite_model_maker\n",
        "import pandas as pd\n",
        "import tweepy, json\n",
        "import preprocessor as p\n",
        "import re"
      ]
    },
    {
      "cell_type": "code",
      "execution_count": null,
      "metadata": {
        "id": "yf2sUEyunsrC"
      },
      "outputs": [],
      "source": [
        "tf.config.get_visible_devices()"
      ]
    },
    {
      "cell_type": "code",
      "execution_count": null,
      "metadata": {
        "id": "gU1cexM5n_v_"
      },
      "outputs": [],
      "source": [
        "!nvidia-smi"
      ]
    },
    {
      "cell_type": "code",
      "execution_count": null,
      "metadata": {
        "id": "ypo8XqKjoBdw"
      },
      "outputs": [],
      "source": [
        "# register our client application with Twitter.\n",
        "consumer_key=\"\"\n",
        "consumer_secret=\"\"\n",
        "# request tokens\n",
        "access_token=\"\"\n",
        "access_token_secret=\"\"\n",
        "\n",
        "auth = tweepy.OAuthHandler(consumer_key, consumer_secret)\n",
        "auth.set_access_token(access_token, access_token_secret)"
      ]
    },
    {
      "cell_type": "code",
      "execution_count": null,
      "metadata": {
        "id": "cWJ2dF20oHIJ"
      },
      "outputs": [],
      "source": [
        "api = tweepy.API(auth)\n",
        "public_tweets = api.home_timeline()\n",
        "for tweet in public_tweets:\n",
        "    print(tweet.text)    "
      ]
    },
    {
      "cell_type": "code",
      "execution_count": null,
      "metadata": {
        "id": "hyvtbEgjp3y5"
      },
      "outputs": [],
      "source": [
        "class MyTweetsStreamListener(tweepy.StreamListener):\n",
        "    def __init__(self, max_tweets = 100):\n",
        "        # call the base class constructor\n",
        "        super(MyTweetsStreamListener, self).__init__()        \n",
        "        self._max_tweets = max_tweets\n",
        "        self.tweets = []\n",
        "\n",
        "    def on_status(self, status):\n",
        "        tweet = status._json\n",
        "        self.tweets.append(tweet)\n",
        "        if len(self.tweets)  >= self._max_tweets:\n",
        "            return False\n",
        "        return True\n",
        "\n",
        "    def on_error(self, status_code):\n",
        "        if status_code == 420:\n",
        "            #returning False in on_data disconnects the stream\n",
        "            return False"
      ]
    },
    {
      "cell_type": "code",
      "execution_count": null,
      "metadata": {
        "id": "0YWGwCFIp-eD"
      },
      "outputs": [],
      "source": [
        "def fetch_tweets(topics, max_tweets = 100):\n",
        "    l = MyTweetsStreamListener(max_tweets)\n",
        "    tweets_stream = tweepy.Stream(auth=api.auth, listener=l)\n",
        "    tweets_stream.filter(languages=[\"en\"],track=topics)\n",
        "    return l.tweets"
      ]
    },
    {
      "cell_type": "code",
      "execution_count": null,
      "metadata": {
        "id": "mUH9vmJSkwy9"
      },
      "outputs": [],
      "source": [
        "# Gathering the data\n",
        "covid_tweets = fetch_tweets(['covid','covid19','facemask','social distancing'], max_tweets=200)\n",
        "nasa_tweets = fetch_tweets(['Nasa','SpaceX', \"Moon\"], max_tweets=200)"
      ]
    },
    {
      "cell_type": "code",
      "execution_count": null,
      "metadata": {
        "id": "VpVmemL-qLXu"
      },
      "outputs": [],
      "source": [
        "stopwords = [\"for\", \"on\", \"an\", \"a\", \"of\", \"and\", \"in\", \"the\", \"to\", \"from\"]\n",
        "\n",
        "def clean_tweet(tweet):\n",
        "    temp = tweet.lower()\n",
        "    temp = re.sub(\"'\", \"\", temp) # to avoid removing contractions in english\n",
        "    temp = re.sub(\"@[A-Za-z0-9_]+\",\"\", temp)    \n",
        "    temp = re.sub(r'http\\S+', '', temp)\n",
        "    temp = re.sub('[()!?]', ' ', temp)\n",
        "    temp = re.sub('\\[.*?\\]',' ', temp)\n",
        "    temp = re.sub(\"[^a-z0-9]\",\" \", temp)\n",
        "    temp = temp.split()\n",
        "    temp = [w for w in temp if not w in stopwords]\n",
        "    temp = \" \".join(word for word in temp)\n",
        "    return temp\n",
        "\n",
        "def create_labeled_df(tweets_list, label):\n",
        "    df = pd.DataFrame()\n",
        "    for tweet in tweets_list:\n",
        "        df = df.append({\n",
        "            \"sentence\": clean_tweet(tweet[\"text\"]),\n",
        "            \"label\": label\n",
        "            }, ignore_index=True)   \n",
        "    return df"
      ]
    },
    {
      "cell_type": "code",
      "execution_count": null,
      "metadata": {
        "id": "5lBymiSFquw-"
      },
      "outputs": [],
      "source": [
        "covid_tweets_df = create_labeled_df(covid_tweets, label=\"covid\")\n",
        "nasa_tweets_df = create_labeled_df(nasa_tweets, label=\"nasa\")"
      ]
    },
    {
      "cell_type": "code",
      "execution_count": null,
      "metadata": {
        "id": "MGrzumXwq2vt"
      },
      "outputs": [],
      "source": [
        "pd.concat([covid_tweets_df, nasa_tweets_df]).to_csv(\"tweets.csv\", index=None)"
      ]
    },
    {
      "cell_type": "code",
      "execution_count": null,
      "metadata": {
        "id": "5NdKuAc7rEwa"
      },
      "outputs": [],
      "source": [
        "from tflite_model_maker import model_spec\n",
        "from tflite_model_maker import text_classifier\n",
        "from tflite_model_maker.config import ExportFormat\n",
        "from tflite_model_maker.text_classifier import AverageWordVecSpec\n",
        "from tflite_model_maker.text_classifier import DataLoader"
      ]
    },
    {
      "cell_type": "code",
      "execution_count": null,
      "metadata": {
        "id": "87KdA4glrF2i"
      },
      "outputs": [],
      "source": [
        "spec = AverageWordVecSpec(wordvec_dim=45)\n",
        "#spec = model_spec.get('average_word_vec')\n",
        "#spec = model_spec.get('mobilebert_classifier')"
      ]
    },
    {
      "cell_type": "code",
      "execution_count": null,
      "metadata": {
        "id": "fDWh48mLrJUu"
      },
      "outputs": [],
      "source": [
        "dataset = DataLoader.from_csv(\n",
        "      filename='tweets.csv',\n",
        "      text_column='sentence',\n",
        "      label_column='label',\n",
        "      shuffle=True,\n",
        "      model_spec=spec\n",
        ")"
      ]
    },
    {
      "cell_type": "code",
      "execution_count": null,
      "metadata": {
        "id": "KPnJJzD3rqT-"
      },
      "outputs": [],
      "source": [
        "train_ds, val_ds = dataset.split(0.9)"
      ]
    },
    {
      "cell_type": "code",
      "execution_count": null,
      "metadata": {
        "id": "i7JCclNxrrRs"
      },
      "outputs": [],
      "source": [
        "model = text_classifier.create(train_ds, model_spec=spec, epochs=20)"
      ]
    },
    {
      "cell_type": "code",
      "execution_count": null,
      "metadata": {
        "id": "IqF3gNyerxm1"
      },
      "outputs": [],
      "source": [
        "model.evaluate(val_ds)"
      ]
    },
    {
      "cell_type": "code",
      "execution_count": null,
      "metadata": {
        "id": "9__sL5pbrzYj"
      },
      "outputs": [],
      "source": [
        "def predict_label(text):\n",
        "    embedings = spec.preprocess(clean_tweet(text))\n",
        "    embedings_tf = tf.convert_to_tensor(embedings)    \n",
        "    embedings_tf = tf.expand_dims(embedings_tf, 0)\n",
        "    predictions = model.predict_top_k(embedings_tf, k =2)\n",
        "    return predictions"
      ]
    },
    {
      "cell_type": "code",
      "execution_count": null,
      "metadata": {
        "id": "rin9UBl8r2q9"
      },
      "outputs": [],
      "source": [
        "predict_label(\"Look at the moon!, do you see that guy with mask?\")"
      ]
    },
    {
      "cell_type": "code",
      "execution_count": null,
      "metadata": {
        "id": "83RhUVhXr5j2"
      },
      "outputs": [],
      "source": [
        "predict_label(\"I got my first moderna shot today?\")"
      ]
    },
    {
      "cell_type": "code",
      "execution_count": null,
      "metadata": {
        "id": "HalAZqn9sIqC"
      },
      "outputs": [],
      "source": [
        "model.export(export_dir='model',  \n",
        "             export_format=[\n",
        "                    ExportFormat.LABEL, \n",
        "                    ExportFormat.VOCAB, \n",
        "                    ExportFormat.TFJS, \n",
        "                    ExportFormat.TFLITE]\n",
        "             )"
      ]
    },
    {
      "cell_type": "code",
      "execution_count": null,
      "metadata": {
        "id": "YVGXWLu7sKyL"
      },
      "outputs": [],
      "source": [
        "model.summary()"
      ]
    }
  ],
  "metadata": {
    "accelerator": "GPU",
    "colab": {
      "collapsed_sections": [],
      "name": "devfest-demo-4.ipynb",
      "provenance": []
    },
    "kernelspec": {
      "display_name": "Python 3",
      "name": "python3"
    },
    "language_info": {
      "name": "python"
    }
  },
  "nbformat": 4,
  "nbformat_minor": 0
}
